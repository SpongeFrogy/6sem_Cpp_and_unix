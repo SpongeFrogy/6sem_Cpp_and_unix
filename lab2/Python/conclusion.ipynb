{
 "cells": [
  {
   "cell_type": "code",
   "execution_count": 11,
   "metadata": {},
   "outputs": [],
   "source": [
    "from ctypes import*\n",
    "import timeit\n",
    "import numpy as np\n",
    "import matplotlib.pyplot as plt"
   ]
  },
  {
   "cell_type": "code",
   "execution_count": 7,
   "metadata": {},
   "outputs": [],
   "source": [
    "mydll = windll.LoadLibrary('C:/Users/droid/Projects/6sem_Cpp_and_unix/lab2/C++/for_python/shared_lib.dll')\n",
    "\n",
    "mydll.func.restype = c_double"
   ]
  },
  {
   "cell_type": "code",
   "execution_count": 8,
   "metadata": {},
   "outputs": [],
   "source": [
    "\n",
    "def func(x):\n",
    "    return x ** 2 - x ** 2 + x * 4 - x * 5 + x + x\n",
    "\n",
    "def time_exp(n, x):\n",
    "    time = timeit.timeit(stmt='func(x)', globals={\"func\": func, \"x\": x}, number=n)\n",
    "    return time"
   ]
  },
  {
   "cell_type": "code",
   "execution_count": 32,
   "metadata": {},
   "outputs": [],
   "source": [
    "x = np.random.random()\n",
    "cppx = c_double(x)\n",
    "\n",
    "gen = range(1000000, 10000001, 500000)\n",
    "\n",
    "times_py = list(time_exp(n, x) for n in gen)\n",
    "times_cpp = list(mydll.func(cppx, n) for n in gen)\n",
    "\n",
    "ns = list(gen)"
   ]
  },
  {
   "cell_type": "code",
   "execution_count": 57,
   "metadata": {},
   "outputs": [
    {
     "data": {
      "image/png": "[encoded data removed]",
      "text/plain": [
       "<Figure size 800x400 with 1 Axes>"
      ]
     },
     "metadata": {},
     "output_type": "display_data"
    }
   ],
   "source": [
    "fig, ax = plt.subplots()\n",
    "fig.set_size_inches(8, 4)\n",
    "\n",
    "ax.scatter(ns, times_py, marker='x', s=6, c='#5898C3', label='python')\n",
    "ax.scatter(ns, times_cpp, marker='x', s=6, c='#F78166', label='C++')\n",
    "ax.set_yscale('log')\n",
    "ax.set_xscale('log')\n",
    "ax.set_xlabel('n of loops')\n",
    "ax.set_ylabel('time')\n",
    "\n",
    "ax.spines['left'].set_color('#C9D1D9')\n",
    "ax.spines['bottom'].set_color('#C9D1D9')\n",
    "\n",
    "ax.set_facecolor('#0D1117')\n",
    "ax.tick_params(colors='#C9D1D9')\n",
    "\n",
    "ax.yaxis.label.set_color('#C9D1D9')\n",
    "ax.xaxis.label.set_color('#C9D1D9')\n",
    "\n",
    "ax.legend(labelcolor='#C9D1D9', markerscale=3, frameon=False)\n",
    "plt.savefig('conclusion.png', edgecolor='#0D1117', dpi=400, facecolor='black', transparent=True)"
   ]
  },
  {
   "cell_type": "code",
   "execution_count": null,
   "metadata": {},
   "outputs": [],
   "source": []
  }
 ],
 "metadata": {
  "kernelspec": {
   "display_name": "Python 3",
   "language": "python",
   "name": "python3"
  },
  "language_info": {
   "codemirror_mode": {
    "name": "ipython",
    "version": 3
   },
   "file_extension": ".py",
   "mimetype": "text/x-python",
   "name": "python",
   "nbconvert_exporter": "python",
   "pygments_lexer": "ipython3",
   "version": "3.7.15"
  },
  "orig_nbformat": 4
 },
 "nbformat": 4,
 "nbformat_minor": 2
}
